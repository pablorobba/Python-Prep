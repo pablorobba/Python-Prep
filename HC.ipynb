{
 "cells": [
  {
   "cell_type": "code",
   "execution_count": 10,
   "metadata": {},
   "outputs": [
    {
     "name": "stdout",
     "output_type": "stream",
     "text": [
      "3\n"
     ]
    }
   ],
   "source": [
    "def ClaseAnimal(especie, color):\n",
    "    '''\n",
    "    Esta función devuelve un objeto instanciado de la clase Animal, \n",
    "    la cual debe tener los siguientes atributos:\n",
    "        Edad    (Un valor de tipo de dato entero, que debe inicializarse en cero)\n",
    "        Especie (Un valor de tipo de dato string)\n",
    "        Color   (Un valor de tipo de dato string)\n",
    "    y debe tener el siguiente método:\n",
    "        CumplirAnios  (este método debe sumar uno al atributo Edad y debe devolver ese valor)\n",
    "    Recibe dos argumento:\n",
    "        especie: Dato que se asignará al atributo Especie del objeto de la clase Animal\n",
    "        color: Dato que se asignará al atributo Color del objeto de la clase Animal\n",
    "    Ej:\n",
    "        a = ClaseAnimal('perro','blanco')\n",
    "        a.CumpliAnios() -> debe devolver 1\n",
    "        a.CumpliAnios() -> debe devolver 2\n",
    "        a.CumpliAnios() -> debe devolver 3\n",
    "    '''\n",
    "    #Tu código aca:\n",
    "    class Animal:\n",
    "        def __init__(self,especie, color):\n",
    "            self.especie = especie\n",
    "            self.color = color\n",
    "            self.edad = 0\n",
    "        def CumplirAnios(self):\n",
    "            self.edad += 1\n",
    "            return self.edad\n",
    "    return Animal(especie, color)\n",
    "            \n",
    "\n",
    "a = ClaseAnimal('perro','negro')\n",
    "valor_test = a.CumplirAnios()\n",
    "valor_test = a.CumplirAnios()\n",
    "valor_test = a.CumplirAnios()\n",
    "print(valor_test)"
   ]
  },
  {
   "cell_type": "code",
   "execution_count": 9,
   "metadata": {},
   "outputs": [
    {
     "name": "stdout",
     "output_type": "stream",
     "text": [
      "720\n"
     ]
    }
   ],
   "source": [
    "def Factorial(numero):\n",
    "    '''\n",
    "    Esta función devuelve el factorial del número pasado como parámetro.\n",
    "    En caso de que no sea de tipo entero y/o sea menor que 1, debe retornar nulo.\n",
    "    Recibe un argumento:\n",
    "        numero: Será el número con el que se calcule el factorial\n",
    "    Ej:\n",
    "        Factorial(4) debe retornar 24\n",
    "        Factorial(-2) debe retornar nulo\n",
    "    '''\n",
    "    #Tu código aca:\n",
    "    if type(numero) != int:\n",
    "        return None\n",
    "    if numero < 1: \n",
    "        return None\n",
    "    factorial = 1\n",
    "    while (numero > 1):\n",
    "        factorial = factorial * numero      #(factorial*=numero)\n",
    "        numero = numero - 1                 #(numero-=1)\n",
    "    return factorial\n",
    "print(Factorial(6))"
   ]
  }
 ],
 "metadata": {
  "kernelspec": {
   "display_name": "Python 3",
   "language": "python",
   "name": "python3"
  },
  "language_info": {
   "codemirror_mode": {
    "name": "ipython",
    "version": 3
   },
   "file_extension": ".py",
   "mimetype": "text/x-python",
   "name": "python",
   "nbconvert_exporter": "python",
   "pygments_lexer": "ipython3",
   "version": "3.11.0"
  },
  "orig_nbformat": 4
 },
 "nbformat": 4,
 "nbformat_minor": 2
}
