{
 "cells": [
  {
   "attachments": {},
   "cell_type": "markdown",
   "metadata": {},
   "source": [
    "## Manejo de errores"
   ]
  },
  {
   "attachments": {},
   "cell_type": "markdown",
   "metadata": {},
   "source": [
    "1) Con la clase creada en el módulo 7, tener en cuenta diferentes casos en que el código pudiera arrojar error. Por ejemplo, en la creación del objeto recibimos una lista de números enteros pero ¿qué pasa si se envía otro tipo de dato?"
   ]
  },
  {
   "cell_type": "code",
   "execution_count": 43,
   "metadata": {},
   "outputs": [
    {
     "ename": "TypeError",
     "evalue": "'int' object is not iterable",
     "output_type": "error",
     "traceback": [
      "\u001b[1;31m---------------------------------------------------------------------------\u001b[0m",
      "\u001b[1;31mTypeError\u001b[0m                                 Traceback (most recent call last)",
      "Cell \u001b[1;32mIn[43], line 4\u001b[0m\n\u001b[0;32m      1\u001b[0m \u001b[39mfrom\u001b[39;00m \u001b[39mmodulo3\u001b[39;00m \u001b[39mimport\u001b[39;00m \u001b[39m*\u001b[39m\n\u001b[0;32m      3\u001b[0m Probar_primos \u001b[39m=\u001b[39m Modulo3(\u001b[39m3\u001b[39m)\n\u001b[1;32m----> 4\u001b[0m Probar_primos\u001b[39m.\u001b[39;49msi_es_primo()\n",
      "File \u001b[1;32mc:\\Users\\Pablo\\Documents\\Programacion\\4 Henry\\Python-Prep\\M09_errorhandling\\modulo3.py:102\u001b[0m, in \u001b[0;36mModulo3.si_es_primo\u001b[1;34m(self)\u001b[0m\n\u001b[0;32m    101\u001b[0m \u001b[39mdef\u001b[39;00m \u001b[39msi_es_primo\u001b[39m(\u001b[39mself\u001b[39m):\n\u001b[1;32m--> 102\u001b[0m     \u001b[39mfor\u001b[39;00m i \u001b[39min\u001b[39;00m \u001b[39mself\u001b[39m\u001b[39m.\u001b[39mlista:\n\u001b[0;32m    103\u001b[0m         primo \u001b[39m=\u001b[39m \u001b[39mTrue\u001b[39;00m\n\u001b[0;32m    104\u001b[0m         \u001b[39mif\u001b[39;00m i \u001b[39m%\u001b[39m \u001b[39m2\u001b[39m \u001b[39m==\u001b[39m \u001b[39m0\u001b[39m:\n",
      "\u001b[1;31mTypeError\u001b[0m: 'int' object is not iterable"
     ]
    }
   ],
   "source": [
    "from modulo3 import *\n",
    "\n",
    "Probar_primos = Modulo3(3)\n",
    "Probar_primos.si_es_primo()\n"
   ]
  },
  {
   "cell_type": "code",
   "execution_count": 1,
   "metadata": {},
   "outputs": [
    {
     "name": "stdout",
     "output_type": "stream",
     "text": [
      "1 farenheit son en celsius -17.22222222222222 celsius\n",
      "1 farenheit son en celsius -17.22222222222222 celsius\n",
      "1 farenheit son en celsius -17.22222222222222 celsius\n"
     ]
    }
   ],
   "source": [
    "import modulo3\n",
    "\n",
    "probar_grados = modulo3.Modulo3([1,1,1])\n",
    "probar_grados.convierte_celsius_farenheit_kelvin(\"farenheit\",\"celsius\")\n",
    "\n",
    "#Probar_primos = Modulo3([1,2,3,4,6,7,8])\n",
    "#Probar_primos.si_es_primo()\n",
    "\n",
    "#probar_factorial = Modulo3([1,2,3,4,6,7,])\n",
    "#probar_grados.factorial()\n",
    "\n",
    "#probar_modal = Modulo3([1,2,3,4,6,7,])\n",
    "#probar_modal.numero_que_más_se_repite(True)\n"
   ]
  },
  {
   "attachments": {},
   "cell_type": "markdown",
   "metadata": {},
   "source": [
    "2) En la función que hace la conversión de grados, validar que los parámetros enviados sean los esperados, de no serlo, informar cuáles son los valores esperados."
   ]
  },
  {
   "cell_type": "code",
   "execution_count": 3,
   "metadata": {},
   "outputs": [
    {
     "ename": "AssertionError",
     "evalue": "tenes que dar un valor bool",
     "output_type": "error",
     "traceback": [
      "\u001b[1;31m---------------------------------------------------------------------------\u001b[0m",
      "\u001b[1;31mAssertionError\u001b[0m                            Traceback (most recent call last)",
      "Cell \u001b[1;32mIn[3], line 132\u001b[0m\n\u001b[0;32m    122\u001b[0m \u001b[39m#probar_grados = Modulo3([1,2,3,5])\u001b[39;00m\n\u001b[0;32m    123\u001b[0m \u001b[39m#probar_grados.convierte_celsius_farenheit_kelvin(1,\"celsius\")\u001b[39;00m\n\u001b[0;32m    124\u001b[0m \n\u001b[1;32m   (...)\u001b[0m\n\u001b[0;32m    128\u001b[0m \u001b[39m#probar_factorial = Modulo3([1,2,3,4,6,7,])\u001b[39;00m\n\u001b[0;32m    129\u001b[0m \u001b[39m#probar_grados.factorial()\u001b[39;00m\n\u001b[0;32m    131\u001b[0m probar_modal \u001b[39m=\u001b[39m Modulo3([\u001b[39m1\u001b[39m,\u001b[39m2\u001b[39m,\u001b[39m3\u001b[39m,\u001b[39m4\u001b[39m,\u001b[39m6\u001b[39m,\u001b[39m7\u001b[39m,])\n\u001b[1;32m--> 132\u001b[0m probar_modal\u001b[39m.\u001b[39;49mnumero_que_más_se_repite(\u001b[39m\"\u001b[39;49m\u001b[39mxd\u001b[39;49m\u001b[39m\"\u001b[39;49m)\n",
      "Cell \u001b[1;32mIn[3], line 82\u001b[0m, in \u001b[0;36mModulo3.numero_que_más_se_repite\u001b[1;34m(self, menor)\u001b[0m\n\u001b[0;32m     80\u001b[0m \u001b[39mdef\u001b[39;00m \u001b[39mnumero_que_más_se_repite\u001b[39m(\u001b[39mself\u001b[39m,menor):\n\u001b[0;32m     81\u001b[0m \u001b[39m    \u001b[39m\u001b[39m''' devuelve el que más se repite y cuántas veces lo hace'''\u001b[39;00m\n\u001b[1;32m---> 82\u001b[0m     \u001b[39massert\u001b[39;00m \u001b[39mtype\u001b[39m(menor) \u001b[39m==\u001b[39m \u001b[39mbool\u001b[39m, \u001b[39mf\u001b[39m\u001b[39m'\u001b[39m\u001b[39mtenes que dar un valor bool\u001b[39m\u001b[39m'\u001b[39m\n\u001b[0;32m     83\u001b[0m     numeros_unicos \u001b[39m=\u001b[39m[]\n\u001b[0;32m     84\u001b[0m     numero_de_repes \u001b[39m=\u001b[39m []\n",
      "\u001b[1;31mAssertionError\u001b[0m: tenes que dar un valor bool"
     ]
    }
   ],
   "source": [
    "class Modulo3:\n",
    "    def __init__(self,lista):\n",
    "        self.lista= lista\n",
    "        assert type(lista) == list, f'{lista} no es list'\n",
    "        for i in lista:\n",
    "            assert type(i) == int,f'el o los elementos \"{i}\" en la lista, deben ser un int'\n",
    "                \n",
    "    def convierte_celsius_farenheit_kelvin(self,entrada, salida):\n",
    "                \n",
    "        parametros_esperados = ['celsius','kelvin','farenheit']\n",
    "\n",
    "        if str(entrada) not in parametros_esperados:\n",
    "            print('Los parametros esperados son:', parametros_esperados)\n",
    "            return None\n",
    "        if str(salida) not in parametros_esperados:\n",
    "            print('Los parametros esperados son zxfsafasfwqrqwrg4ht2q:', parametros_esperados)\n",
    "            return None\n",
    "                \n",
    "        for i in self.lista:\n",
    "            assert type(entrada) == str, f'{entrada} no es list'\n",
    "            assert type(salida) == str, f'{salida} no es list'\n",
    "            print(i, entrada , \"son en\", salida, \n",
    "                  self.___convierte_celsius_farenheit_kelvin\n",
    "                  (i,entrada,salida), salida)\n",
    "        \n",
    "    def factorial(self):\n",
    "        for i in self.lista:\n",
    "            print(\"el factorial de\", i, \"es\", self.___factorial(i)) \n",
    "            \n",
    "               \n",
    "    def ___factorial(self,numero):\n",
    "            \n",
    "        '''''Devuelve el factorial de un numero'''\n",
    "            \n",
    "        if type(numero) != int:\n",
    "                return(\"tenes que poner un numero\")    \n",
    "            \n",
    "        if(numero < 0):\n",
    "                return(\"tenes que poner un entero no negativo\")\n",
    "            \n",
    "        if (numero <= 1):\n",
    "                return 1    \n",
    "                \n",
    "        else:\n",
    "            numero = numero * self.___factorial(numero - 1)\n",
    "            return numero\n",
    "            \n",
    "    def ___convierte_celsius_farenheit_kelvin(self, valor, entrada, salida) :\n",
    "    \n",
    "        '''Formula que convierte entre distintos tipos de escala de grados. \n",
    "            Para su funcionamiento, se la debe llamar y dar una entrada \n",
    "            con la escala de grados a convertir, el valor a convertir, \n",
    "            y la escala a la que se desea convertir. \n",
    "            Por ejemplo: \"convierte_celsius_farenheit_kelvin\n",
    "            (\"celsius\", 1, \"kelvin\")\"'''\n",
    "\n",
    "        if entrada == \"celsius\" and salida == \"celsius\":\n",
    "                    valor_convertido = int(valor)           \n",
    "        if entrada == \"celsius\" and salida == \"farenheit\":\n",
    "                    valor_convertido = ((int(valor) * 9/5) + 32)            \n",
    "        if entrada == \"celsius\" and salida == \"kelvin\":\n",
    "                    valor_convertido = (int(valor) + 273.15)\n",
    "            \n",
    "        if entrada == \"farenheit\" and salida == \"farenheit\":\n",
    "                    valor_convertido = valor            \n",
    "        if entrada == \"farenheit\" and salida == \"celsius\":\n",
    "                    valor_convertido = (int(valor) - 32) * 5/9       \n",
    "        if entrada == \"farenheit\" and salida == \"kelvin\":\n",
    "                    valor_convertido = 5/9 * (int(valor) -32) + 273.15\n",
    "                \n",
    "        if entrada == \"kelvin\" and salida == \"kelvin\":\n",
    "                    valor_convertido = valor            \n",
    "        if entrada == \"kelvin\" and salida == \"farenheit\":\n",
    "                    valor_convertido = 1.8 * (int(valor) - 273.15) + 32            \n",
    "        if entrada == \"kelvin\" and salida == \"celsius\":\n",
    "                    valor_convertido = int(valor) - 273.15\n",
    "                                            \n",
    "        return valor_convertido\n",
    "    \n",
    "    def numero_que_más_se_repite(self,menor):\n",
    "        ''' devuelve el que más se repite y cuántas veces lo hace'''\n",
    "        assert type(menor) == bool, f'tenes que dar un valor bool'\n",
    "        numeros_unicos =[]\n",
    "        numero_de_repes = []\n",
    "        if len(self.lista) == 0:\n",
    "            print(\"lista sin numeros\")\n",
    "            return None\n",
    "        \n",
    "        if (menor):\n",
    "            self.lista.sort()\n",
    "        else:\n",
    "            self.lista.sort(reverse=True)\n",
    "            \n",
    "        for e in self.lista:\n",
    "            if e in numeros_unicos:\n",
    "                i = numeros_unicos.index(e)\n",
    "                numero_de_repes[i] += 1\n",
    "            else:\n",
    "                numeros_unicos.append(e)\n",
    "                numero_de_repes.append(1)\n",
    "\n",
    "        minimo = numeros_unicos[0]\n",
    "        maximo = numero_de_repes[0]\n",
    "        \n",
    "        for i in range(len(numeros_unicos)):\n",
    "            if numero_de_repes[i] > maximo:\n",
    "                minimo = numeros_unicos[i]\n",
    "                maximo = numero_de_repes[i]\n",
    "        return minimo, maximo\n",
    "    \n",
    "    def si_es_primo(self):\n",
    "        for i in self.lista:\n",
    "            primo = True\n",
    "            if i % 2 == 0:\n",
    "                primo = False\n",
    "                print(i, \"no es primo\")\n",
    "            else:\n",
    "                print(i, \"es primo\")\n",
    "                \n",
    "\n",
    "\n",
    "#probar_grados = Modulo3([1,2,3,5])\n",
    "#probar_grados.convierte_celsius_farenheit_kelvin(1,\"celsius\")\n",
    "\n",
    "#Probar_primos = Modulo3([1,2,3,4,6,7,8])\n",
    "#Probar_primos.si_es_primo()\n",
    "\n",
    "#probar_factorial = Modulo3([1,2,3,4,6,7,])\n",
    "#probar_grados.factorial()\n",
    "\n",
    "probar_modal = Modulo3([1,2,3,4,6,7,])\n",
    "probar_modal.numero_que_más_se_repite(\"xd\")"
   ]
  },
  {
   "attachments": {},
   "cell_type": "markdown",
   "metadata": {},
   "source": [
    "3) Importar el modulo \"unittest\" y crear los siguientes casos de pruebas sobre la clase utilizada en el punto 2<br>\n",
    "Creacion del objeto incorrecta<br>\n",
    "Creacion correcta del objeto<br>\n",
    "Metodo valor_modal()<br>\n",
    "\n",
    "Se puede usar \"raise ValueError()\" en la creación de la clase para verificar el error. Investigar sobre esta funcionalidad."
   ]
  },
  {
   "cell_type": "code",
   "execution_count": 2,
   "metadata": {},
   "outputs": [
    {
     "name": "stderr",
     "output_type": "stream",
     "text": [
      "\n",
      "----------------------------------------------------------------------\n",
      "Ran 0 tests in 0.000s\n",
      "\n",
      "OK\n"
     ]
    },
    {
     "data": {
      "text/plain": [
       "<unittest.main.TestProgram at 0x21e68682d50>"
      ]
     },
     "execution_count": 2,
     "metadata": {},
     "output_type": "execute_result"
    }
   ],
   "source": [
    "import unittest\n",
    "import modulo3 as m\n",
    "class ProbarBug(unittest.TestCase):\n",
    "    \n",
    "    def objeto_incorrecto(self):\n",
    "        lista = \"xd\"\n",
    "        self.assertRaises(ValueError, Modulo3, lista)\n",
    "        \n",
    "        \n",
    "    def objeto_correcto(self):\n",
    "        lista_correcta = [1, 2, 3, 5, 4, 4]\n",
    "        m = Modulo3(lista_correcta)    \n",
    "        self.assertEqual(m.lista,lista_correcta)\n",
    "\n",
    "unittest.main(argv=[''], verbosity=2, exit=False)\n",
    "    \n",
    "\n",
    "    "
   ]
  },
  {
   "attachments": {},
   "cell_type": "markdown",
   "metadata": {},
   "source": [
    "4) Probar una creación incorrecta y visualizar la salida del \"raise\""
   ]
  },
  {
   "cell_type": "code",
   "execution_count": null,
   "metadata": {},
   "outputs": [],
   "source": []
  },
  {
   "attachments": {},
   "cell_type": "markdown",
   "metadata": {},
   "source": [
    "6) Agregar casos de pruebas para el método verifica_primos() realizando el cambio en la clase, para que devuelva una lista de True o False en función de que el elemento en la posisicón sea o no primo"
   ]
  },
  {
   "cell_type": "code",
   "execution_count": null,
   "metadata": {},
   "outputs": [],
   "source": []
  },
  {
   "attachments": {},
   "cell_type": "markdown",
   "metadata": {},
   "source": [
    "7) Agregar casos de pruebas para el método conversion_grados()"
   ]
  },
  {
   "cell_type": "code",
   "execution_count": 19,
   "metadata": {},
   "outputs": [
    {
     "name": "stderr",
     "output_type": "stream",
     "text": [
      "\n",
      "----------------------------------------------------------------------\n",
      "Ran 0 tests in 0.000s\n",
      "\n",
      "OK\n"
     ]
    },
    {
     "data": {
      "text/plain": [
       "<unittest.main.TestProgram at 0x1c3721d28d0>"
      ]
     },
     "execution_count": 19,
     "metadata": {},
     "output_type": "execute_result"
    }
   ],
   "source": [
    "import unittest\n",
    "class ProbarBug(unittest.TestCase):\n",
    "    def probar_grados(self):\n",
    "        lista =  [1,2,3,5]\n",
    "        entrada = \"farenheit\"\n",
    "        salida = \"celsius\"\n",
    "\n",
    "        resultado = Modulo3(lista) \n",
    "        resultado.convierte_celsius_farenheit_kelvin\n",
    "        (entrada,salida)\n",
    "                \n",
    "        self.assertEqual(resultado)\n",
    "\n",
    "unittest.main(argv=[''], verbosity=2, exit=False)"
   ]
  },
  {
   "attachments": {},
   "cell_type": "markdown",
   "metadata": {},
   "source": [
    "8) Agregar casos de pruebas para el método factorial()"
   ]
  },
  {
   "cell_type": "code",
   "execution_count": null,
   "metadata": {},
   "outputs": [],
   "source": []
  }
 ],
 "metadata": {
  "interpreter": {
   "hash": "c85384e4cb51c8b72350f3a8712cc8351fdc3955e32a27f9b60c6242ab125f01"
  },
  "kernelspec": {
   "display_name": "Python 3 (ipykernel)",
   "language": "python",
   "name": "python3"
  },
  "language_info": {
   "codemirror_mode": {
    "name": "ipython",
    "version": 3
   },
   "file_extension": ".py",
   "mimetype": "text/x-python",
   "name": "python",
   "nbconvert_exporter": "python",
   "pygments_lexer": "ipython3",
   "version": "3.11.0"
  }
 },
 "nbformat": 4,
 "nbformat_minor": 4
}
