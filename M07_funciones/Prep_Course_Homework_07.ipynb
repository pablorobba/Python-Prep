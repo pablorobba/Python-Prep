{
 "cells": [
  {
   "attachments": {},
   "cell_type": "markdown",
   "metadata": {},
   "source": [
    "## Funciones"
   ]
  },
  {
   "attachments": {},
   "cell_type": "markdown",
   "metadata": {},
   "source": [
    "1) Crear una función que reciba un número como parámetro y devuelva True si es primo y False si no lo es"
   ]
  },
  {
   "cell_type": "code",
   "execution_count": 2,
   "metadata": {},
   "outputs": [
    {
     "name": "stdout",
     "output_type": "stream",
     "text": [
      "5 es primo\n"
     ]
    }
   ],
   "source": [
    "def si_es_primo(numero):\n",
    "    primo = True\n",
    "    if numero % 2 == 0:\n",
    "        primo = False\n",
    "        print(numero, \"no es primo\")\n",
    "    else:\n",
    "        print(numero, \"es primo\")\n",
    "        \n",
    "si_es_primo(5)"
   ]
  },
  {
   "attachments": {},
   "cell_type": "markdown",
   "metadata": {},
   "source": [
    "2) Utilizando la función del punto 1, realizar otra función que reciba de parámetro una lista de números y devuelva sólo aquellos que son primos en otra lista"
   ]
  },
  {
   "cell_type": "code",
   "execution_count": 4,
   "metadata": {},
   "outputs": [
    {
     "name": "stdout",
     "output_type": "stream",
     "text": [
      "1 es primo\n",
      "2 no es primo\n",
      "3 es primo\n",
      "4 no es primo\n",
      "5 es primo\n",
      "6 no es primo\n",
      "7 es primo\n",
      "8 no es primo\n",
      "9 es primo\n",
      "10 no es primo\n",
      "11 es primo\n",
      "12 no es primo\n",
      "13 es primo\n",
      "14 no es primo\n",
      "15 es primo\n",
      "16 no es primo\n",
      "17 es primo\n",
      "18 no es primo\n",
      "19 es primo\n",
      "20 no es primo\n",
      "21 es primo\n",
      "22 no es primo\n"
     ]
    }
   ],
   "source": [
    "def lista_primos(lista):\n",
    "    primos = []\n",
    "    for e in lista:\n",
    "        if si_es_primo(int(e)):\n",
    "            primos.append(e)\n",
    "            \n",
    "lis = [1,2,3,4,5,6,7,8,9,10,11,12,13,14,15,16,17,18,19,20,21,22]\n",
    "\n",
    "lista_primos(lis)\n",
    "        "
   ]
  },
  {
   "attachments": {},
   "cell_type": "markdown",
   "metadata": {},
   "source": [
    "3) Crear una función que al recibir una lista de números, devuelva el que más se repite y cuántas veces lo hace. Si hay más de un \"más repetido\", que devuelva cualquiera"
   ]
  },
  {
   "cell_type": "code",
   "execution_count": 1,
   "metadata": {},
   "outputs": [
    {
     "name": "stdout",
     "output_type": "stream",
     "text": [
      "[7, 21]\n"
     ]
    }
   ],
   "source": [
    "def numero_que_más_se_repite(lista):\n",
    "    ''' devuelve el que más se repite y cuántas veces lo hace'''\n",
    "    repetientes = []\n",
    "    repetidos =[]\n",
    "    if len(lista) == 0:\n",
    "        print(\"lista sin numeros\")\n",
    "        return None\n",
    "        \n",
    "    else:\n",
    "        for cuanto_se_repite in lista:\n",
    "            cuanto_se_repite = lista.count(cuanto_se_repite)\n",
    "            repetientes.append(cuanto_se_repite)\n",
    "            repetientes.sort()\n",
    "            \n",
    "        if cuanto_se_repite:            \n",
    "            repetidos.append((max(set(lista), key = lista.count)))\n",
    "            repetidos.append(repetientes[-1])\n",
    "    return repetidos\n",
    "        \n",
    "   \n",
    "i = [1,1,1,5,1,1,1,1,1,9,9,1,4,9,9,5,9,9,5,9,9,9,9,9,9,9,4,5,5,5,5,5,5,5,5,5,5,5,5,5,7,7,7,7,7,7,7,7,7,7,7,7,7,7,7,7,7,7,7,7,7]\n",
    "print(numero_que_más_se_repite(i))\n",
    "        \n",
    "    \n",
    "                    "
   ]
  },
  {
   "cell_type": "code",
   "execution_count": 6,
   "metadata": {},
   "outputs": [
    {
     "name": "stdout",
     "output_type": "stream",
     "text": [
      "5\n"
     ]
    }
   ],
   "source": [
    "lista = [1,1,1,5,1,1,1,1,1,9,9,1,4,9,9,5,9,9,5,9,9,9,9,9,9,9,4,5,5,5,5,5,5,5,5,5,5,5,5,5,7,7,7]\n",
    "print((max(set(lista), key = lista.count)))\n"
   ]
  },
  {
   "cell_type": "code",
   "execution_count": 23,
   "metadata": {},
   "outputs": [
    {
     "name": "stdout",
     "output_type": "stream",
     "text": [
      "numeros unicos: [1, 3]\n",
      "numeros repes: [2, 4]\n"
     ]
    },
    {
     "data": {
      "text/plain": [
       "(3, 4)"
      ]
     },
     "execution_count": 23,
     "metadata": {},
     "output_type": "execute_result"
    }
   ],
   "source": [
    "def numero_que_más_se_repite(lista):\n",
    "    ''' devuelve el que más se repite y cuántas veces lo hace'''\n",
    "    numeros_unicos =[]\n",
    "    numero_de_repes = []\n",
    "    if len(lista) == 0:\n",
    "        print(\"lista sin numeros\")\n",
    "        return None\n",
    "\n",
    "    for e in lista:\n",
    "        if e in numeros_unicos:\n",
    "            i = numeros_unicos.index(e)\n",
    "            numero_de_repes[i] += 1\n",
    "        else:\n",
    "            numeros_unicos.append(e)\n",
    "            numero_de_repes.append(1)\n",
    "    print(\"numeros unicos:\", numeros_unicos)\n",
    "    print(\"numeros repes:\", numero_de_repes)\n",
    "    \n",
    "    minimo = numeros_unicos[0]\n",
    "    maximo = numero_de_repes[0]\n",
    "    \n",
    "    for i in range(len(numeros_unicos)):\n",
    "        if numero_de_repes[i] > maximo:\n",
    "            minimo = numeros_unicos[i]\n",
    "            maximo = numero_de_repes[i]\n",
    "    return minimo, maximo        \n",
    "    \n",
    "lista = [1,1,3,3,3,3]\n",
    "numero_que_más_se_repite(lista)\n",
    "            \n"
   ]
  },
  {
   "attachments": {},
   "cell_type": "markdown",
   "metadata": {},
   "source": [
    "4) A la función del punto 3, agregar un parámetro más, que permita elegir si se requiere el menor o el mayor de los mas repetidos."
   ]
  },
  {
   "cell_type": "code",
   "execution_count": 16,
   "metadata": {},
   "outputs": [
    {
     "name": "stdout",
     "output_type": "stream",
     "text": [
      "numeros unicos: [4, 3, 2, 1]\n",
      "numeros repes: [2, 1, 2, 2]\n"
     ]
    },
    {
     "data": {
      "text/plain": [
       "(4, 2)"
      ]
     },
     "execution_count": 16,
     "metadata": {},
     "output_type": "execute_result"
    }
   ],
   "source": [
    "def numero_que_más_se_repite(lista,menor=True):\n",
    "    ''' devuelve el que más se repite y cuántas veces lo hace'''\n",
    "    numeros_unicos =[]\n",
    "    numero_de_repes = []\n",
    "    if len(lista) == 0:\n",
    "        print(\"lista sin numeros\")\n",
    "        return None\n",
    "    \n",
    "    if (menor):\n",
    "        lista.sort()\n",
    "    else:\n",
    "        lista.sort(reverse=True)\n",
    "        \n",
    "    for e in lista:\n",
    "        if e in numeros_unicos:\n",
    "            i = numeros_unicos.index(e)\n",
    "            numero_de_repes[i] += 1\n",
    "        else:\n",
    "            numeros_unicos.append(e)\n",
    "            numero_de_repes.append(1)\n",
    "    print(\"numeros unicos:\", numeros_unicos)\n",
    "    print(\"numeros repes:\", numero_de_repes)\n",
    "    \n",
    "    minimo = numeros_unicos[0]\n",
    "    maximo = numero_de_repes[0]\n",
    "    \n",
    "    for i in range(len(numeros_unicos)):\n",
    "        if numero_de_repes[i] > maximo:\n",
    "            minimo = numeros_unicos[i]\n",
    "            maximo = numero_de_repes[i]\n",
    "    return minimo, maximo\n",
    "\n",
    "#La idea es poner en una lista los numeros que más se repiten y luego, en orden,\n",
    "#de acuerdo a la posición de cada uno (los numeros que se repiten), la cantidad\n",
    "#de veces que se repiten.        \n",
    "    \n",
    "lista = [1,1,2,2,4,4,3]\n",
    "numero_que_más_se_repite(lista,False)\n"
   ]
  },
  {
   "attachments": {},
   "cell_type": "markdown",
   "metadata": {},
   "source": [
    "5) Crear una función que convierta entre grados Celsius, Farenheit y Kelvin<br>\n",
    "Fórmula 1\t: (°C × 9/5) + 32 = °F<br>\n",
    "Fórmula 2\t: °C + 273.15 = °K<br>\n",
    "Debe recibir 3 parámetros: el valor, la medida de orígen y la medida de destino\n"
   ]
  },
  {
   "cell_type": "code",
   "execution_count": 37,
   "metadata": {},
   "outputs": [
    {
     "name": "stdout",
     "output_type": "stream",
     "text": [
      "1\n",
      "33.8\n",
      "274.15\n",
      "-17.22222222222222\n",
      "255.92777777777775\n",
      "-457.86999999999995\n",
      "-272.15\n",
      "Help on function convierte_celsius_farenheit_kelvin in module __main__:\n",
      "\n",
      "convierte_celsius_farenheit_kelvin(entrada, valor, salida)\n",
      "    Formula que convierte entre distintos tipos de escala de grados. \n",
      "    Para su funcionamiento, se la debe llamar y dar una entrada con la escala de \n",
      "    grados a convertir, el valor a convertir, y la escala a la que se desea \n",
      "    convertir. \n",
      "    Por ejemplo: \"convierte_celsius_farenheit_kelvin(\"celsius\", 1, \"kelvin\")\"\n",
      "\n"
     ]
    }
   ],
   "source": [
    "def convierte_celsius_farenheit_kelvin(entrada, valor, salida) :\n",
    "    \n",
    "    '''Formula que convierte entre distintos tipos de escala de grados. \n",
    "    Para su funcionamiento, se la debe llamar y dar una entrada con la escala de \n",
    "    grados a convertir, el valor a convertir, y la escala a la que se desea \n",
    "    convertir. \n",
    "    Por ejemplo: \"convierte_celsius_farenheit_kelvin(\"celsius\", 1, \"kelvin\")\"'''\n",
    "    \n",
    "    if type(valor) != int:\n",
    "        print(\"tenes que dar un numero\")\n",
    "        \n",
    "    else:\n",
    "    \n",
    "        if entrada == \"celsius\" and salida == \"celsius\":\n",
    "            valor_convertido = int(valor)           \n",
    "        if entrada == \"celsius\" and salida == \"farenheit\":\n",
    "            valor_convertido = ((int(valor) * 9/5) + 32)            \n",
    "        if entrada == \"celsius\" and salida == \"kelvin\":\n",
    "            valor_convertido = (int(valor) + 273.15)\n",
    "    \n",
    "        if entrada == \"farenheit\" and salida == \"farenheit\":\n",
    "            valor_convertido = valor            \n",
    "        if entrada == \"farenheit\" and salida == \"celsius\":\n",
    "            valor_convertido = (int(valor) - 32) * 5/9       \n",
    "        if entrada == \"farenheit\" and salida == \"kelvin\":\n",
    "            valor_convertido = 5/9 * (int(valor) -32) + 273.15\n",
    "        \n",
    "        if entrada == \"kelvin\" and salida == \"kelvin\":\n",
    "            valor_convertido = valor            \n",
    "        if entrada == \"kelvin\" and salida == \"farenheit\":\n",
    "            valor_convertido = 1.8 * (int(valor) - 273.15) + 32            \n",
    "        if entrada == \"kelvin\" and salida == \"celsius\":\n",
    "            valor_convertido = int(valor) - 273.15\n",
    "                                    \n",
    "    return valor_convertido\n",
    "\n",
    "print(convierte_celsius_farenheit_kelvin(\"celsius\",1,\"celsius\"))\n",
    "print(convierte_celsius_farenheit_kelvin(\"celsius\", 1, \"farenheit\"))\n",
    "print(convierte_celsius_farenheit_kelvin(\"celsius\", 1, \"kelvin\"))\n",
    "\n",
    "print(convierte_celsius_farenheit_kelvin(\"farenheit\", 1, \"celsius\"))\n",
    "print(convierte_celsius_farenheit_kelvin(\"farenheit\", 1, \"kelvin\"))\n",
    "\n",
    "print(convierte_celsius_farenheit_kelvin(\"kelvin\", 1, \"farenheit\"))\n",
    "print(convierte_celsius_farenheit_kelvin(\"kelvin\", 1, \"celsius\"))\n",
    "\n",
    "\n",
    "help(convierte_celsius_farenheit_kelvin)"
   ]
  },
  {
   "attachments": {},
   "cell_type": "markdown",
   "metadata": {},
   "source": [
    "6) Iterando una lista con los tres valores posibles de temperatura que recibe la función del punto 5, hacer un print para cada combinación de los mismos:"
   ]
  },
  {
   "cell_type": "code",
   "execution_count": 44,
   "metadata": {},
   "outputs": [
    {
     "name": "stdout",
     "output_type": "stream",
     "text": [
      "el valor de 0 en farenheit a farenheit es 0\n",
      "el valor de 1 en farenheit a farenheit es 1\n",
      "el valor de 2 en farenheit a farenheit es 2\n",
      "el valor de 3 en farenheit a farenheit es 3\n",
      "el valor de 0 en farenheit a celsius es -17.77777777777778\n",
      "el valor de 1 en farenheit a celsius es -17.22222222222222\n",
      "el valor de 2 en farenheit a celsius es -16.666666666666668\n",
      "el valor de 3 en farenheit a celsius es -16.11111111111111\n",
      "el valor de 0 en farenheit a kelvin es 255.3722222222222\n",
      "el valor de 1 en farenheit a kelvin es 255.92777777777775\n",
      "el valor de 2 en farenheit a kelvin es 256.4833333333333\n",
      "el valor de 3 en farenheit a kelvin es 257.0388888888889\n",
      "el valor de 0 en celsius a farenheit es 32.0\n",
      "el valor de 1 en celsius a farenheit es 33.8\n",
      "el valor de 2 en celsius a farenheit es 35.6\n",
      "el valor de 3 en celsius a farenheit es 37.4\n",
      "el valor de 0 en celsius a celsius es 0\n",
      "el valor de 1 en celsius a celsius es 1\n",
      "el valor de 2 en celsius a celsius es 2\n",
      "el valor de 3 en celsius a celsius es 3\n",
      "el valor de 0 en celsius a kelvin es 273.15\n",
      "el valor de 1 en celsius a kelvin es 274.15\n",
      "el valor de 2 en celsius a kelvin es 275.15\n",
      "el valor de 3 en celsius a kelvin es 276.15\n",
      "el valor de 0 en kelvin a farenheit es -459.66999999999996\n",
      "el valor de 1 en kelvin a farenheit es -457.86999999999995\n",
      "el valor de 2 en kelvin a farenheit es -456.07\n",
      "el valor de 3 en kelvin a farenheit es -454.27\n",
      "el valor de 0 en kelvin a celsius es -273.15\n",
      "el valor de 1 en kelvin a celsius es -272.15\n",
      "el valor de 2 en kelvin a celsius es -271.15\n",
      "el valor de 3 en kelvin a celsius es -270.15\n",
      "el valor de 0 en kelvin a kelvin es 0\n",
      "el valor de 1 en kelvin a kelvin es 1\n",
      "el valor de 2 en kelvin a kelvin es 2\n",
      "el valor de 3 en kelvin a kelvin es 3\n"
     ]
    }
   ],
   "source": [
    "lista = [\"farenheit\", \"celsius\", \"kelvin\"]\n",
    "for e in range(0,3):\n",
    "    for i in range (0,3):\n",
    "        for h in range(0,4):\n",
    "            print(\"el valor de\", h ,\"en\",lista[e],\"a\",lista[i], \"es\",  \n",
    "                convierte_celsius_farenheit_kelvin(lista[e],h,lista[i]))"
   ]
  },
  {
   "attachments": {},
   "cell_type": "markdown",
   "metadata": {},
   "source": [
    "7) Armar una función que devuelva el factorial de un número. Tener en cuenta que el usuario puede equivocarse y enviar de parámetro un número no entero o negativo"
   ]
  },
  {
   "cell_type": "code",
   "execution_count": 48,
   "metadata": {},
   "outputs": [
    {
     "data": {
      "text/plain": [
       "'tenes que poner un entero no negativo'"
      ]
     },
     "execution_count": 48,
     "metadata": {},
     "output_type": "execute_result"
    }
   ],
   "source": [
    "def factorial(numero):\n",
    "    \n",
    "    '''''Devuelve el factorial de un numero'''\n",
    "    \n",
    "    if type(numero) != int:\n",
    "        return(\"tenes que poner un numero\")    \n",
    "    \n",
    "    if(numero < 0):\n",
    "        return(\"tenes que poner un entero no negativo\")\n",
    "    \n",
    "    if (numero <= 1):\n",
    "        return 1    \n",
    "        \n",
    "    else:\n",
    "        numero = numero * factorial(numero - 1)\n",
    "        return numero                             \n",
    " \n",
    "\n",
    "factorial(-3)"
   ]
  }
 ],
 "metadata": {
  "interpreter": {
   "hash": "c85384e4cb51c8b72350f3a8712cc8351fdc3955e32a27f9b60c6242ab125f01"
  },
  "kernelspec": {
   "display_name": "Python 3 (ipykernel)",
   "language": "python",
   "name": "python3"
  },
  "language_info": {
   "codemirror_mode": {
    "name": "ipython",
    "version": 3
   },
   "file_extension": ".py",
   "mimetype": "text/x-python",
   "name": "python",
   "nbconvert_exporter": "python",
   "pygments_lexer": "ipython3",
   "version": "3.11.0"
  }
 },
 "nbformat": 4,
 "nbformat_minor": 4
}
