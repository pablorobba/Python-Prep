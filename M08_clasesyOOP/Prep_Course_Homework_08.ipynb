{
 "cells": [
  {
   "attachments": {},
   "cell_type": "markdown",
   "metadata": {},
   "source": [
    "## Clases y Programación Orientada a Objetos"
   ]
  },
  {
   "attachments": {},
   "cell_type": "markdown",
   "metadata": {},
   "source": [
    "1) Crear la clase vehículo que contenga los atributos:<br>\n",
    "Color<br>\n",
    "Si es moto, auto, camioneta ó camión<br>\n",
    "Cilindrada del motor"
   ]
  },
  {
   "cell_type": "code",
   "execution_count": 2,
   "metadata": {},
   "outputs": [],
   "source": [
    "class vehículo:\n",
    "    def __init__(self,color,tipo,cilindrada):\n",
    "        self.color = color\n",
    "        self.tipo = tipo\n",
    "        self.cilindrada =cilindrada"
   ]
  },
  {
   "attachments": {},
   "cell_type": "markdown",
   "metadata": {},
   "source": [
    "2) A la clase Vehiculo creada en el punto 1, agregar los siguientes métodos:<br>\n",
    "Acelerar<br>\n",
    "Frenar<br>\n",
    "Doblar<br>"
   ]
  },
  {
   "cell_type": "code",
   "execution_count": 3,
   "metadata": {},
   "outputs": [],
   "source": [
    "class vehículo:\n",
    "    def __init__(self, color, tipo, cilindrada):\n",
    "        self.color = color\n",
    "        self.tipo = tipo\n",
    "        self.cilindrada =cilindrada\n",
    "        self.velocidad = 0\n",
    "        self.direccion = 0\n",
    "        \n",
    "    def acelerar(self, vel):\n",
    "        self.velocidad += vel \n",
    "        \n",
    "    def frenar(self, vel):\n",
    "        self.velocidad -= vel\n",
    "    \n",
    "    def doblar(self,grados):\n",
    "        self.direccion += grados\n",
    "        "
   ]
  },
  {
   "attachments": {},
   "cell_type": "markdown",
   "metadata": {},
   "source": [
    "3) Instanciar 3 objetos de la clase vehículo y ejecutar sus métodos, probar luego el resultado"
   ]
  },
  {
   "cell_type": "code",
   "execution_count": 4,
   "metadata": {},
   "outputs": [],
   "source": [
    "Toyota = vehículo(\"rojo\", \"auto\", 3)\n",
    "Renault = vehículo(\"gris\", \"auto\", 1)\n",
    "Yamaha = vehículo(\"negro\", \"moto\", 3)\n",
    "\n",
    "Toyota.acelerar(9)\n",
    "Toyota.frenar(5)\n",
    "Toyota.doblar(5)\n",
    "\n",
    "Renault.acelerar(9)\n",
    "Renault.frenar(5)\n",
    "Renault.doblar(5)\n",
    "\n",
    "Yamaha.acelerar(9)\n",
    "Yamaha.frenar(5)\n",
    "Yamaha.doblar(5)\n",
    "\n"
   ]
  },
  {
   "attachments": {},
   "cell_type": "markdown",
   "metadata": {},
   "source": [
    "4) Agregar a la clase Vehiculo, un método que muestre su estado, es decir, a que velocidad se encuentra y su dirección. Y otro método que muestre color, tipo y cilindrada"
   ]
  },
  {
   "cell_type": "code",
   "execution_count": 16,
   "metadata": {},
   "outputs": [
    {
     "name": "stdout",
     "output_type": "stream",
     "text": [
      "Este es un vehículo de color rojo de tipo auto con una cilindrada de 3\n",
      "tengo una velocidad de 35 y una dirección de 54\n",
      "Este es un vehículo de color gris de tipo auto con una cilindrada de 1\n",
      "tengo una velocidad de 42 y una dirección de 55\n",
      "Este es un vehículo de color negro de tipo moto con una cilindrada de 3\n",
      "tengo una velocidad de 49 y una dirección de 59\n"
     ]
    }
   ],
   "source": [
    "class vehículo:\n",
    "    def __init__(self, color, tipo, cilindrada):\n",
    "        self.color = color\n",
    "        self.tipo = tipo\n",
    "        self.cilindrada =cilindrada\n",
    "        self.velocidad = 0\n",
    "        self.direccion = 0\n",
    "        \n",
    "    def acelerar(self, vel):\n",
    "        self.velocidad += vel \n",
    "        \n",
    "    def frenar(self, vel):\n",
    "        self.velocidad -= vel\n",
    "    \n",
    "    def doblar(self,grados):\n",
    "        self.direccion += grados\n",
    "    \n",
    "    def forma(self):\n",
    "        print(\"Este es un vehículo de color\", self.color, \"de tipo\", self.tipo, \n",
    "              \"con una cilindrada de\", self.cilindrada ) \n",
    "    def estado(self):\n",
    "        print(\"tengo una velocidad de\", self.velocidad, \"y una dirección de\", \n",
    "              self.direccion)   \n",
    "\n",
    "Toyota = vehículo(\"rojo\", \"auto\", 3)\n",
    "Renault = vehículo(\"gris\", \"auto\", 1)\n",
    "Yamaha = vehículo(\"negro\", \"moto\", 3)\n",
    "\n",
    "Toyota.acelerar(90)\n",
    "Toyota.frenar(55)\n",
    "Toyota.doblar(54)\n",
    "Toyota.forma()\n",
    "Toyota.estado()\n",
    "\n",
    "Renault.acelerar(99)\n",
    "Renault.frenar(57)\n",
    "Renault.doblar(55)\n",
    "Renault.forma()\n",
    "Renault.estado()\n",
    "\n",
    "Yamaha.acelerar(99)\n",
    "Yamaha.frenar(50)\n",
    "Yamaha.doblar(59)\n",
    "Yamaha.forma()\n",
    "Yamaha.estado()\n",
    "\n"
   ]
  },
  {
   "attachments": {},
   "cell_type": "markdown",
   "metadata": {},
   "source": [
    "5) Crear una clase que permita utilizar las funciones creadas en la práctica del módulo 7<br>\n",
    "Verificar Primo<br>\n",
    "Valor modal<br>\n",
    "Conversión grados<br>\n",
    "Factorial<br>"
   ]
  },
  {
   "cell_type": "code",
   "execution_count": 48,
   "metadata": {},
   "outputs": [],
   "source": [
    "class Modulo3:\n",
    "    def __init__(self,lista):\n",
    "        self.lista= lista\n",
    "   \n",
    "    def convierte_celsius_farenheit_kelvin(self,entrada, salida):\n",
    "        for i in self.lista:\n",
    "            print(i, entrada , \"son en\", salida, \n",
    "                  self.___convierte_celsius_farenheit_kelvin\n",
    "                  (i,entrada,salida), salida)\n",
    "        \n",
    "    def factorial(self):\n",
    "        for i in self.lista:\n",
    "            print(\"el factorial de\", i, \"es\", self.___factorial(i)) \n",
    "            \n",
    "               \n",
    "    def ___factorial(self,numero):\n",
    "            \n",
    "        '''''Devuelve el factorial de un numero'''\n",
    "            \n",
    "        if type(numero) != int:\n",
    "                return(\"tenes que poner un numero\")    \n",
    "            \n",
    "        if(numero < 0):\n",
    "                return(\"tenes que poner un entero no negativo\")\n",
    "            \n",
    "        if (numero <= 1):\n",
    "                return 1    \n",
    "                \n",
    "        else:\n",
    "            numero = numero * self.___factorial(numero - 1)\n",
    "            return numero\n",
    "            \n",
    "    def ___convierte_celsius_farenheit_kelvin(self, valor, entrada, salida) :\n",
    "    \n",
    "        '''Formula que convierte entre distintos tipos de escala de grados. \n",
    "            Para su funcionamiento, se la debe llamar y dar una entrada \n",
    "            con la escala de grados a convertir, el valor a convertir, \n",
    "            y la escala a la que se desea convertir. \n",
    "            Por ejemplo: \"convierte_celsius_farenheit_kelvin\n",
    "            (\"celsius\", 1, \"kelvin\")\"'''\n",
    "            \n",
    "        if type(valor) != int:\n",
    "                print(\"tenes que dar un numero\")\n",
    "                \n",
    "        else:\n",
    "            \n",
    "            if entrada == \"celsius\" and salida == \"celsius\":\n",
    "                    valor_convertido = int(valor)           \n",
    "            if entrada == \"celsius\" and salida == \"farenheit\":\n",
    "                    valor_convertido = ((int(valor) * 9/5) + 32)            \n",
    "            if entrada == \"celsius\" and salida == \"kelvin\":\n",
    "                    valor_convertido = (int(valor) + 273.15)\n",
    "            \n",
    "            if entrada == \"farenheit\" and salida == \"farenheit\":\n",
    "                    valor_convertido = valor            \n",
    "            if entrada == \"farenheit\" and salida == \"celsius\":\n",
    "                    valor_convertido = (int(valor) - 32) * 5/9       \n",
    "            if entrada == \"farenheit\" and salida == \"kelvin\":\n",
    "                    valor_convertido = 5/9 * (int(valor) -32) + 273.15\n",
    "                \n",
    "            if entrada == \"kelvin\" and salida == \"kelvin\":\n",
    "                    valor_convertido = valor            \n",
    "            if entrada == \"kelvin\" and salida == \"farenheit\":\n",
    "                    valor_convertido = 1.8 * (int(valor) - 273.15) + 32            \n",
    "            if entrada == \"kelvin\" and salida == \"celsius\":\n",
    "                    valor_convertido = int(valor) - 273.15\n",
    "                                            \n",
    "        return valor_convertido\n",
    "    \n",
    "    def numero_que_más_se_repite(self,menor):\n",
    "        ''' devuelve el que más se repite y cuántas veces lo hace'''\n",
    "        numeros_unicos =[]\n",
    "        numero_de_repes = []\n",
    "        if len(self.lista) == 0:\n",
    "            print(\"lista sin numeros\")\n",
    "            return None\n",
    "        \n",
    "        if (menor):\n",
    "            self.lista.sort()\n",
    "        else:\n",
    "            self.lista.sort(reverse=True)\n",
    "            \n",
    "        for e in self.lista:\n",
    "            if e in numeros_unicos:\n",
    "                i = numeros_unicos.index(e)\n",
    "                numero_de_repes[i] += 1\n",
    "            else:\n",
    "                numeros_unicos.append(e)\n",
    "                numero_de_repes.append(1)\n",
    "\n",
    "        minimo = numeros_unicos[0]\n",
    "        maximo = numero_de_repes[0]\n",
    "        \n",
    "        for i in range(len(numeros_unicos)):\n",
    "            if numero_de_repes[i] > maximo:\n",
    "                minimo = numeros_unicos[i]\n",
    "                maximo = numero_de_repes[i]\n",
    "        return minimo, maximo\n",
    "    \n",
    "    def si_es_primo(self):\n",
    "        for i in self.lista:\n",
    "            primo = True\n",
    "            if i % 2 == 0:\n",
    "                primo = False\n",
    "                print(i, \"no es primo\")\n",
    "            else:\n",
    "                print(i, \"es primo\")\n",
    "                \n",
    "            "
   ]
  },
  {
   "attachments": {},
   "cell_type": "markdown",
   "metadata": {},
   "source": [
    "6) Probar las funciones incorporadas en la clase del punto 5"
   ]
  },
  {
   "cell_type": "code",
   "execution_count": 49,
   "metadata": {},
   "outputs": [
    {
     "name": "stdout",
     "output_type": "stream",
     "text": [
      "1 es primo\n",
      "2 no es primo\n",
      "3 es primo\n",
      "4 no es primo\n",
      "6 no es primo\n",
      "7 es primo\n",
      "8 no es primo\n",
      "1 farenheit son en kelvin 255.92777777777775 kelvin\n",
      "2 farenheit son en kelvin 256.4833333333333 kelvin\n",
      "3 farenheit son en kelvin 257.0388888888889 kelvin\n",
      "4 farenheit son en kelvin 257.59444444444443 kelvin\n",
      "6 farenheit son en kelvin 258.7055555555555 kelvin\n",
      "7 farenheit son en kelvin 259.26111111111106 kelvin\n",
      "el factorial de 1 es 1\n",
      "el factorial de 2 es 2\n",
      "el factorial de 3 es 6\n",
      "el factorial de 4 es 24\n",
      "el factorial de 6 es 720\n",
      "el factorial de 7 es 5040\n"
     ]
    },
    {
     "data": {
      "text/plain": [
       "(1, 1)"
      ]
     },
     "execution_count": 49,
     "metadata": {},
     "output_type": "execute_result"
    }
   ],
   "source": [
    "Probar_primos = Modulo3([1,2,3,4,6,7,8])\n",
    "Probar_primos.si_es_primo()\n",
    "\n",
    "probar_grados = Modulo3([1,2,3,4,6,7,])\n",
    "probar_grados.convierte_celsius_farenheit_kelvin(\"farenheit\",\"kelvin\")\n",
    "\n",
    "probar_factorial = Modulo3([1,2,3,4,6,7,])\n",
    "probar_grados.factorial()\n",
    "\n",
    "probar_modal = Modulo3([1,2,3,4,6,7,])\n",
    "probar_modal.numero_que_más_se_repite(True)"
   ]
  },
  {
   "attachments": {},
   "cell_type": "markdown",
   "metadata": {},
   "source": [
    "7) Es necesario que la clase creada en el punto 5 contenga una lista, sobre la cual se apliquen las funciones incorporadas"
   ]
  },
  {
   "cell_type": "code",
   "execution_count": null,
   "metadata": {},
   "outputs": [],
   "source": []
  },
  {
   "attachments": {},
   "cell_type": "markdown",
   "metadata": {},
   "source": [
    "8) Crear un archivo .py aparte y ubicar allí la clase generada en el punto anterior. Luego realizar la importación del módulo y probar alguna de sus funciones"
   ]
  },
  {
   "cell_type": "code",
   "execution_count": 10,
   "metadata": {},
   "outputs": [
    {
     "name": "stdout",
     "output_type": "stream",
     "text": [
      "1 es primo\n",
      "2 no es primo\n",
      "3 es primo\n",
      "4 no es primo\n",
      "6 no es primo\n",
      "7 es primo\n",
      "8 no es primo\n",
      "1 farenheit son en kelvin 255.92777777777775 kelvin\n",
      "2 farenheit son en kelvin 256.4833333333333 kelvin\n",
      "3 farenheit son en kelvin 257.0388888888889 kelvin\n",
      "4 farenheit son en kelvin 257.59444444444443 kelvin\n",
      "6 farenheit son en kelvin 258.7055555555555 kelvin\n",
      "7 farenheit son en kelvin 259.26111111111106 kelvin\n",
      "el factorial de 1 es 1\n",
      "el factorial de 2 es 2\n",
      "el factorial de 3 es 6\n",
      "el factorial de 4 es 24\n",
      "el factorial de 6 es 720\n",
      "el factorial de 7 es 5040\n"
     ]
    },
    {
     "data": {
      "text/plain": [
       "(7, 2)"
      ]
     },
     "execution_count": 10,
     "metadata": {},
     "output_type": "execute_result"
    }
   ],
   "source": [
    "from modulo3 import *\n",
    "Probar_primos = Modulo3([1,2,3,4,6,7,8])\n",
    "Probar_primos.si_es_primo()\n",
    "\n",
    "probar_grados = Modulo3([1,2,3,4,6,7,])\n",
    "probar_grados.convierte_celsius_farenheit_kelvin(\"farenheit\",\"kelvin\")\n",
    "\n",
    "probar_factorial = Modulo3([1,2,3,4,6,7,])\n",
    "probar_grados.factorial()\n",
    "\n",
    "probar_modal = Modulo3([1,2,3,4,6,7,7])\n",
    "probar_modal.numero_que_más_se_repite(True)\n"
   ]
  },
  {
   "cell_type": "code",
   "execution_count": 11,
   "metadata": {},
   "outputs": [
    {
     "name": "stdout",
     "output_type": "stream",
     "text": [
      "1 es primo\n",
      "2 no es primo\n",
      "3 es primo\n",
      "4 no es primo\n",
      "6 no es primo\n",
      "7 es primo\n",
      "8 no es primo\n",
      "1 farenheit son en kelvin 255.92777777777775 kelvin\n",
      "2 farenheit son en kelvin 256.4833333333333 kelvin\n",
      "3 farenheit son en kelvin 257.0388888888889 kelvin\n",
      "4 farenheit son en kelvin 257.59444444444443 kelvin\n",
      "6 farenheit son en kelvin 258.7055555555555 kelvin\n",
      "7 farenheit son en kelvin 259.26111111111106 kelvin\n",
      "el factorial de 1 es 1\n",
      "el factorial de 2 es 2\n",
      "el factorial de 3 es 6\n",
      "el factorial de 4 es 24\n",
      "el factorial de 6 es 720\n",
      "el factorial de 7 es 5040\n"
     ]
    },
    {
     "data": {
      "text/plain": [
       "(7, 2)"
      ]
     },
     "execution_count": 11,
     "metadata": {},
     "output_type": "execute_result"
    }
   ],
   "source": [
    "import modulo3\n",
    "Probar_primos = modulo3.Modulo3([1,2,3,4,6,7,8])\n",
    "Probar_primos.si_es_primo()\n",
    "\n",
    "probar_grados = modulo3.Modulo3([1,2,3,4,6,7,])\n",
    "probar_grados.convierte_celsius_farenheit_kelvin(\"farenheit\",\"kelvin\")\n",
    "\n",
    "probar_factorial = modulo3.Modulo3([1,2,3,4,6,7,])\n",
    "probar_grados.factorial()\n",
    "\n",
    "probar_modal = modulo3.Modulo3([1,2,3,4,6,7,7])\n",
    "probar_modal.numero_que_más_se_repite(True)"
   ]
  }
 ],
 "metadata": {
  "interpreter": {
   "hash": "c85384e4cb51c8b72350f3a8712cc8351fdc3955e32a27f9b60c6242ab125f01"
  },
  "kernelspec": {
   "display_name": "Python 3 (ipykernel)",
   "language": "python",
   "name": "python3"
  },
  "language_info": {
   "codemirror_mode": {
    "name": "ipython",
    "version": 3
   },
   "file_extension": ".py",
   "mimetype": "text/x-python",
   "name": "python",
   "nbconvert_exporter": "python",
   "pygments_lexer": "ipython3",
   "version": "3.11.0"
  }
 },
 "nbformat": 4,
 "nbformat_minor": 4
}
